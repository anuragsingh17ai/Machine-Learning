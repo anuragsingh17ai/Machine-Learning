{
  "nbformat": 4,
  "nbformat_minor": 0,
  "metadata": {
    "colab": {
      "provenance": [],
      "authorship_tag": "ABX9TyNl5ZQIhBm2WJgrXT5qbZcV",
      "include_colab_link": true
    },
    "kernelspec": {
      "name": "python3",
      "display_name": "Python 3"
    },
    "language_info": {
      "name": "python"
    }
  },
  "cells": [
    {
      "cell_type": "markdown",
      "metadata": {
        "id": "view-in-github",
        "colab_type": "text"
      },
      "source": [
        "<a href=\"https://colab.research.google.com/github/anuragsingh17ai/Machine-Learning/blob/main/02_Adaline.ipynb\" target=\"_parent\"><img src=\"https://colab.research.google.com/assets/colab-badge.svg\" alt=\"Open In Colab\"/></a>"
      ]
    },
    {
      "cell_type": "code",
      "execution_count": null,
      "metadata": {
        "id": "1-1UF5rcEtbR"
      },
      "outputs": [],
      "source": [
        "class AdalineGD:\n",
        "  \"\"\"Adaptive Linear Neuron classifier.\n",
        "\n",
        "  Parameters\n",
        "  ----------\n",
        "  eta : float\n",
        "    Learning rate (between 0.0 and 1.0)\n",
        "  n_iter : int\n",
        "    Passes over the training dataset.\n",
        "  random_state : int\n",
        "    Random number generator seed for random weight intialization\n",
        "\n",
        "\n",
        "  Attributes\n",
        "  ----------\n",
        "  w_ : 1d-array\n",
        "    Weights after fitting.\n",
        "  b_ : Scalar\n",
        "    Bias unit after fitting.\n",
        "  losses_ : list\n",
        "    Mean Squared error loss function values in each epoch.\n",
        "  \"\"\"\n",
        "\n",
        "  def __init__(self, eta=0.01, n_iter=50, random_state=1):\n",
        "    self.eta = eta\n",
        "    self.n_iter = n_iter\n",
        "    self.random_state = random_state\n",
        "\n",
        "  def fit(self, X, y):\n",
        "    \"\"\" Fit training data.\n",
        "\n",
        "    Parameters\n",
        "    ----------\n",
        "    X : {array-like}, shape = [n_examples, n_features]\n",
        "      Training vectors, where n_examples is  the number of examples and\n",
        "      n_features is the nujmber of features.\n",
        "    y : array-like, shape = [n_examples]\n",
        "      Target values.\n",
        "\n",
        "\n",
        "    Returns\n",
        "    -------\n",
        "    self : object\n",
        "\n",
        "    \"\"\"\n",
        "\n",
        "    rgen = np.random.RandomState(self.random_state)\n",
        "    self.w_ = rgen.normal(loc=0.0, scale = 0.01, size = X.shape[1])\n",
        "    self.b_ = np.float64(0.)\n",
        "    self.losses_ = []\n",
        "\n",
        "    for i in range(self.n_iter):\n",
        "      net_input = self.net_input(X)\n",
        "      output = self.activation(net_input)\n",
        "      errors = (y-output)\n",
        "      self.w_ += self.eta * 2.0 * X.T.dot(errors)/ X.shape[0]\n",
        "      self.b_ += self.eta * 2.0 * errors.mean()\n",
        "      self.losses_.append(loss)\n",
        "\n",
        "    return self\n",
        "\n",
        "  def net_input(self, X):\n",
        "    \"\"\"Calculate net input\"\"\"\n",
        "    return np.dot(X, self.w_) + self.b_\n",
        "\n",
        "  def activation(self, X):\n",
        "    \"\"\"Compute linear activation\"\"\"\n",
        "    return X\n",
        "\n",
        "  def predict(self, X):\n",
        "    \"\"\"Return class label after unit step\"\"\"\n",
        "    return np.where(self.activation(self.net_input(X))>= 0.5, 1, 0)"
      ]
    }
  ]
}